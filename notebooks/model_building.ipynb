{
 "cells": [
  {
   "cell_type": "markdown",
   "metadata": {},
   "source": [
    "Build a regression model."
   ]
  },
  {
   "cell_type": "code",
   "execution_count": 22,
   "metadata": {},
   "outputs": [],
   "source": [
    "import pandas as pd\n",
    "import numpy as np\n",
    "from sklearn import linear_model, datasets\n",
    "import statsmodels.api as sm\n",
    "\n",
    "df = pd.read_csv(\"final_df_v2.csv\")\n",
    "\n"
   ]
  },
  {
   "cell_type": "code",
   "execution_count": 37,
   "metadata": {},
   "outputs": [
    {
     "name": "stderr",
     "output_type": "stream",
     "text": [
      "/var/folders/2d/bqz04hdj23l8m45654zxfnl80000gn/T/ipykernel_51862/537644333.py:9: SettingWithCopyWarning: \n",
      "A value is trying to be set on a copy of a slice from a DataFrame.\n",
      "Try using .loc[row_indexer,col_indexer] = value instead\n",
      "\n",
      "See the caveats in the documentation: https://pandas.pydata.org/pandas-docs/stable/user_guide/indexing.html#returning-a-view-versus-a-copy\n",
      "  df_dropped[\"price\"] = pd.to_numeric(df_dropped[\"price\"], errors='coerce')\n"
     ]
    },
    {
     "data": {
      "text/plain": [
       "1.0    142\n",
       "2.0    125\n",
       "3.0     63\n",
       "4.0      9\n",
       "Name: price, dtype: int64"
      ]
     },
     "execution_count": 37,
     "metadata": {},
     "output_type": "execute_result"
    }
   ],
   "source": [
    "# need to make sure all columns on which the regression is to be performed are ints/floats. Rn \"price\" is an object\n",
    "# have to drop the NaNs in price before you can convert it to a float\n",
    "df[\"price\"].value_counts(dropna=False)\n",
    "# indicates that there are NaNs in there\n",
    "df_dropped = df.dropna(subset=[\"price\",\"rating\",\"distance\",\"Number_Of_Bikes\"])\n",
    "\n",
    "# gets rid of the NaNs\n",
    "\n",
    "df_dropped[\"price\"] = pd.to_numeric(df_dropped[\"price\"], errors='coerce')\n",
    "\n",
    "# change to float\n",
    "\n",
    "df_dropped = df_dropped.dropna(subset=[\"price\"]) \n",
    "\n",
    "# drop any remaining NaNs\n",
    "\n",
    "df_dropped[\"price\"].value_counts(dropna=False)\n",
    "\n",
    "# check no NaNs left"
   ]
  },
  {
   "cell_type": "code",
   "execution_count": null,
   "metadata": {},
   "outputs": [],
   "source": []
  },
  {
   "cell_type": "code",
   "execution_count": 38,
   "metadata": {},
   "outputs": [
    {
     "name": "stdout",
     "output_type": "stream",
     "text": [
      "                            OLS Regression Results                            \n",
      "==============================================================================\n",
      "Dep. Variable:        Number_Of_Bikes   R-squared:                       0.014\n",
      "Model:                            OLS   Adj. R-squared:                  0.005\n",
      "Method:                 Least Squares   F-statistic:                     1.571\n",
      "Date:                Thu, 02 Feb 2023   Prob (F-statistic):              0.196\n",
      "Time:                        21:57:59   Log-Likelihood:                -756.18\n",
      "No. Observations:                 339   AIC:                             1520.\n",
      "Df Residuals:                     335   BIC:                             1536.\n",
      "Df Model:                           3                                         \n",
      "Covariance Type:            nonrobust                                         \n",
      "==============================================================================\n",
      "                 coef    std err          t      P>|t|      [0.025      0.975]\n",
      "------------------------------------------------------------------------------\n",
      "const          5.0170      1.040      4.824      0.000       2.971       7.063\n",
      "price          0.2030      0.150      1.356      0.176      -0.092       0.498\n",
      "rating        -0.0846      0.132     -0.641      0.522      -0.344       0.175\n",
      "distance      -0.0003      0.000     -1.497      0.135      -0.001    8.68e-05\n",
      "==============================================================================\n",
      "Omnibus:                        9.478   Durbin-Watson:                   0.438\n",
      "Prob(Omnibus):                  0.009   Jarque-Bera (JB):                5.066\n",
      "Skew:                          -0.036   Prob(JB):                       0.0794\n",
      "Kurtosis:                       2.405   Cond. No.                     5.80e+03\n",
      "==============================================================================\n",
      "\n",
      "Notes:\n",
      "[1] Standard Errors assume that the covariance matrix of the errors is correctly specified.\n",
      "[2] The condition number is large, 5.8e+03. This might indicate that there are\n",
      "strong multicollinearity or other numerical problems.\n"
     ]
    }
   ],
   "source": [
    "X = df_dropped[[\"price\", \"rating\", \"distance\"]]  \n",
    "    #double brackets because you are creating a new [df - outer brackets]\n",
    "    # with column names input as a [list - inner brackets]\n",
    "y = df_dropped[\"Number_Of_Bikes\"]\n",
    "\n",
    "X = sm.add_constant(X) # adding a constant to x, which will be the y intercept\n",
    "lin_reg = sm.OLS(y,X)\n",
    "model = lin_reg.fit()\n",
    "\n",
    "print( model.summary() )"
   ]
  },
  {
   "cell_type": "markdown",
   "metadata": {},
   "source": [
    "Provide model output and an interpretation of the results. "
   ]
  },
  {
   "cell_type": "code",
   "execution_count": null,
   "metadata": {},
   "outputs": [],
   "source": [
    "#The R-squared value of 0.014 suggests that only 1.4% of the variability in the dependent variable is explained by the independent variables.\n",
    "#The F-statistic and its associated p-value of 1.571 and 0.196 respectively, indicate that the overall fit of the model is not statistically significant (p-value > 0.05).\n",
    "#The coefficients of the independent variables indicate the average change in the dependent variable for a one unit increase in the independent variable, holding all other independent variables constant. For example, a one unit increase in the \"price\" variable is associated with an average increase of 0.203 bikes, but this relationship is not statistically significant (p-value = 0.176)."
   ]
  },
  {
   "cell_type": "markdown",
   "metadata": {},
   "source": [
    "# Stretch"
   ]
  },
  {
   "cell_type": "markdown",
   "metadata": {},
   "source": [
    "How can you turn the regression model into a classification model?"
   ]
  },
  {
   "cell_type": "code",
   "execution_count": null,
   "metadata": {},
   "outputs": [],
   "source": []
  }
 ],
 "metadata": {
  "kernelspec": {
   "display_name": "lighthouse_labs_env",
   "language": "python",
   "name": "python3"
  },
  "language_info": {
   "codemirror_mode": {
    "name": "ipython",
    "version": 3
   },
   "file_extension": ".py",
   "mimetype": "text/x-python",
   "name": "python",
   "nbconvert_exporter": "python",
   "pygments_lexer": "ipython3",
   "version": "3.10.8"
  },
  "vscode": {
   "interpreter": {
    "hash": "2281410a9d593e6a88c4947e36b0d15a71670fbcbd1e6f30eb5959d756e1fefa"
   }
  }
 },
 "nbformat": 4,
 "nbformat_minor": 4
}
